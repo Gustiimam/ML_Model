{
  "cells": [
    {
      "cell_type": "code",
      "execution_count": 14,
      "metadata": {
        "colab": {
          "base_uri": "https://localhost:8080/"
        },
        "id": "zXDKFAYIARYz",
        "outputId": "e37b5d66-5291-4c3e-e8b5-a98f9abc33f3"
      },
      "outputs": [
        {
          "name": "stdout",
          "output_type": "stream",
          "text": [
            "Drive already mounted at /content/drive; to attempt to forcibly remount, call drive.mount(\"/content/drive\", force_remount=True).\n",
            "Prediksi: [0]\n"
          ]
        }
      ],
      "source": [
        "import pandas as pd\n",
        "import pickle\n",
        "from sklearn.preprocessing import LabelEncoder\n",
        "\n",
        "\n",
        "# New data in normal form (before encoding)\n",
        "data_baru = pd.DataFrame({\n",
        "    'Gender': ['Male'],\n",
        "    'Age': [45],\n",
        "    'Driving_License': [1],\n",
        "    'Region_Code': [28],\n",
        "    'Previously_Insured': [0],\n",
        "    'Vehicle_Age': ['1-2 Year'],\n",
        "    'Vehicle_Damage': ['No'],\n",
        "    'Annual_Premium': [30000],\n",
        "    'Policy_Sales_Channel': [26],\n",
        "    'Vintage': [150]\n",
        "})\n",
        "\n",
        "from google.colab import drive\n",
        "drive.mount('/content/drive')\n",
        "\n",
        "# Memuat model dari file pickle\n",
        "with open('/content/drive/your path directory/ML_model_name.pkl', 'rb') as file:\n",
        "    loaded_model = pickle.load(file)\n",
        "\n",
        "# Load the encoders from saved pickle files\n",
        "with open('/content/drive/your path directory/encoder_name1.pkl', 'rb') as f:\n",
        "    encoder_gender = pickle.load(f)\n",
        "\n",
        "with open('/content/drive/your path directory/encoder_name2.pkl', 'rb') as f:\n",
        "    encoder_vehicle_age = pickle.load(f)\n",
        "\n",
        "with open('/content/drive/your path directory/encoder_name3.pkl', 'rb') as f:\n",
        "    encoder_vehicle_damage = pickle.load(f)\n",
        "\n",
        "# Apply the encoders to the new data\n",
        "data_baru['Gender'] = encoder_gender.transform(data_baru['Gender'])\n",
        "data_baru['Vehicle_Age'] = encoder_vehicle_age.transform(data_baru['Vehicle_Age'])\n",
        "data_baru['Vehicle_Damage'] = encoder_vehicle_damage.transform(data_baru['Vehicle_Damage'])\n",
        "\n",
        "# Now the data is encoded and ready for prediction\n",
        "prediksi_baru = loaded_model.predict(data_baru)\n",
        "print(\"Prediksi:\", prediksi_baru)\n"
      ]
    }
  ],
  "metadata": {
    "colab": {
      "provenance": []
    },
    "kernelspec": {
      "display_name": "Python 3",
      "name": "python3"
    },
    "language_info": {
      "name": "python"
    }
  },
  "nbformat": 4,
  "nbformat_minor": 0
}
